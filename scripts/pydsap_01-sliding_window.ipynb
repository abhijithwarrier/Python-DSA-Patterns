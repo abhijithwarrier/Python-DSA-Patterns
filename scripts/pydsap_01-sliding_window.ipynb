{
 "cells": [
  {
   "metadata": {
    "collapsed": true
   },
   "cell_type": "markdown",
   "source": [
    "**Programmer:** python_scripts (Abhijith Warrier)\n",
    "\n",
    "**PYTHON SCRIPT TO _SOLVE CONTIGUOUS SUBARRAY & SUBSTRING PROBLEMS USING THE SLIDING WINDOW PATTERN_. 🐍🪟**\n",
    "\n",
    "The **sliding window technique** lets you optimize problems that involve contiguous data.\n",
    "Instead of recalculating values for every new subarray, you **slide a window** and update results incrementally — cutting complexity from O(n²) down to O(n)."
   ],
   "id": "48786e43f749436a"
  },
  {
   "metadata": {},
   "cell_type": "markdown",
   "source": [
    "### 📝 Snippet 1 — Fixed-Size Window: Max Sum of Any Subarray of Size k\n",
    "\n",
    "_Compute the sum of the first k elements, then slide the window by one step: subtract the element going out, add the element coming in. Track the maximum._"
   ],
   "id": "a4d6870d150b8cc9"
  },
  {
   "metadata": {
    "ExecuteTime": {
     "end_time": "2025-09-04T10:03:17.314077Z",
     "start_time": "2025-09-04T10:03:17.307333Z"
    }
   },
   "cell_type": "code",
   "source": [
    "from typing import List\n",
    "\n",
    "def max_sum_subarray_k(arr: List[int], k: int) -> int:\n",
    "    \"\"\"\n",
    "    Return the maximum sum of any contiguous subarray of size k.\n",
    "    Sliding window keeps O(1) update per move.\n",
    "    \"\"\"\n",
    "    n = len(arr)\n",
    "    if k <= 0 or k > n:\n",
    "        return 0  # or raise ValueError(\"invalid k\")\n",
    "\n",
    "    # sum of the first window\n",
    "    window_sum = sum(arr[:k])\n",
    "    max_sum = window_sum\n",
    "\n",
    "    # slide the window from index k to n-1\n",
    "    for i in range(k, n):\n",
    "        # add new element (arr[i]) and remove the element that falls out (arr[i-k])\n",
    "        window_sum += arr[i] - arr[i - k]\n",
    "        # track maximum\n",
    "        if window_sum > max_sum:\n",
    "            max_sum = window_sum\n",
    "\n",
    "    return max_sum\n",
    "\n",
    "# Quick sanity check\n",
    "print(f\"Result: {max_sum_subarray_k([2, 1, 5, 1, 3, 2], 3)}\")  # expected 9 (5+1+3)"
   ],
   "id": "505f112412e9ed32",
   "outputs": [
    {
     "name": "stdout",
     "output_type": "stream",
     "text": [
      "Result: 9\n"
     ]
    }
   ],
   "execution_count": 6
  },
  {
   "metadata": {},
   "cell_type": "markdown",
   "source": [
    "### 📝 Snippet 2 — Variable-Size Window: Smallest Subarray with Sum ≥ target\n",
    "\n",
    "_Expand right to grow the sum; once sum ≥ target, shrink from left to minimize length. Maintain best answer._"
   ],
   "id": "eaf3e61e31f30005"
  },
  {
   "metadata": {
    "ExecuteTime": {
     "end_time": "2025-09-04T10:03:19.519435Z",
     "start_time": "2025-09-04T10:03:19.514317Z"
    }
   },
   "cell_type": "code",
   "source": [
    "from math import inf\n",
    "from typing import List\n",
    "\n",
    "def min_subarray_len_at_least(target: int, arr: List[int]) -> int:\n",
    "    \"\"\"\n",
    "    Return the minimal length of a contiguous subarray of which the sum ≥ target.\n",
    "    If no such subarray, return 0.\n",
    "    \"\"\"\n",
    "    left = 0\n",
    "    total = 0\n",
    "    best = inf\n",
    "\n",
    "    for right in range(len(arr)):\n",
    "        total += arr[right]  # expand window\n",
    "\n",
    "        # while condition satisfied, try to shrink from the left\n",
    "        while total >= target:\n",
    "            current_len = right - left + 1\n",
    "            if current_len < best:\n",
    "                best = current_len\n",
    "            total -= arr[left]\n",
    "            left += 1\n",
    "\n",
    "    return 0 if best is inf else best\n",
    "\n",
    "# Quick sanity check\n",
    "print(f\"Result: {min_subarray_len_at_least(7, [2, 3, 1, 2, 4, 3])}\")  # expected 2 (subarray [4,3])"
   ],
   "id": "ccb903811f6fc1df",
   "outputs": [
    {
     "name": "stdout",
     "output_type": "stream",
     "text": [
      "Result: 2\n"
     ]
    }
   ],
   "execution_count": 7
  },
  {
   "metadata": {},
   "cell_type": "markdown",
   "source": [
    "### 📝 Snippet 3 — Variable-Size Window on Strings: Longest Substring Without Repeating Characters\n",
    "\n",
    "_Use a hash map to remember the last index of each character. When a repeat is found inside the window, move left past the previous occurrence._"
   ],
   "id": "84ca0f10c4a378f6"
  },
  {
   "metadata": {
    "ExecuteTime": {
     "end_time": "2025-09-04T10:03:20.976983Z",
     "start_time": "2025-09-04T10:03:20.971969Z"
    }
   },
   "cell_type": "code",
   "source": [
    "def length_of_longest_unique_substring(s: str) -> int:\n",
    "    \"\"\"\n",
    "    Return the length of the longest substring without repeating characters.\n",
    "    Sliding window + last-seen index map keeps O(1) updates.\n",
    "    \"\"\"\n",
    "    last_index = {}  # char -> last seen index\n",
    "    left = 0\n",
    "    best = 0\n",
    "\n",
    "    for right, ch in enumerate(s):\n",
    "        # if we saw this character inside the current window, move left\n",
    "        if ch in last_index and last_index[ch] >= left:\n",
    "            left = last_index[ch] + 1\n",
    "        # update last seen\n",
    "        last_index[ch] = right\n",
    "        # window length\n",
    "        best = max(best, right - left + 1)\n",
    "\n",
    "    return best\n",
    "\n",
    "# Quick sanity checks\n",
    "print(f\"Result-a: {length_of_longest_unique_substring(\"abcabcbb\")}\")  # expected 3 (\"abc\")\n",
    "print(f\"Result-b: {length_of_longest_unique_substring(\"bbbbb\")}\")     # expected 1 (\"b\")\n",
    "print(f\"Result-c: {length_of_longest_unique_substring(\"pwwkew\")}\")    # expected 3 (\"wke\")"
   ],
   "id": "fcdce463a333b459",
   "outputs": [
    {
     "name": "stdout",
     "output_type": "stream",
     "text": [
      "Result-1: 3\n",
      "Result-2: 1\n",
      "Result-3: 3\n"
     ]
    }
   ],
   "execution_count": 8
  },
  {
   "metadata": {},
   "cell_type": "markdown",
   "source": [
    "### 📝 Snippet 4 — Fixed-Size Window with Deque: Sliding Window Maximum\n",
    "\n",
    "_Maintain a deque of indices in decreasing order of values. Front of deque is always the maximum in the current window. Pop from back while smaller than the incoming element; pop from front when it leaves the window._"
   ],
   "id": "642c470039298f7b"
  },
  {
   "metadata": {
    "ExecuteTime": {
     "end_time": "2025-09-04T10:03:42.650753Z",
     "start_time": "2025-09-04T10:03:42.645609Z"
    }
   },
   "cell_type": "code",
   "source": [
    "from collections import deque\n",
    "from typing import List\n",
    "\n",
    "def max_in_sliding_window(arr: List[int], k: int) -> List[int]:\n",
    "    \"\"\"\n",
    "    Return a list of maximums for each contiguous subarray (window) of size k.\n",
    "    Deque keeps indices of elements in decreasing order of value.\n",
    "    \"\"\"\n",
    "    n = len(arr)\n",
    "    if k <= 0 or k > n:\n",
    "        return []\n",
    "\n",
    "    dq = deque()   # stores indices, arr[dq[0]] is current max\n",
    "    result = []\n",
    "\n",
    "    for i in range(n):\n",
    "        # remove indices that are out of this window (i - k + 1 is the window start)\n",
    "        while dq and dq[0] < i - k + 1:\n",
    "            dq.popleft()\n",
    "\n",
    "        # maintain decreasing order: remove smaller elements from the back\n",
    "        while dq and arr[dq[-1]] <= arr[i]:\n",
    "            dq.pop()\n",
    "\n",
    "        dq.append(i)\n",
    "\n",
    "        # starting from i >= k-1, we have full windows: record max\n",
    "        if i >= k - 1:\n",
    "            result.append(arr[dq[0]])\n",
    "\n",
    "    return result\n",
    "\n",
    "# Quick sanity check\n",
    "print(f\"Result: {max_in_sliding_window([1,3,-1,-3,5,3,6,7], 3)}\")  # expected [3,3,5,5,6,7]"
   ],
   "id": "64dc3a170134414d",
   "outputs": [
    {
     "name": "stdout",
     "output_type": "stream",
     "text": [
      "Result: [3, 3, 5, 5, 6, 7]\n"
     ]
    }
   ],
   "execution_count": 9
  },
  {
   "metadata": {},
   "cell_type": "markdown",
   "source": [
    "### ✅ Takeaways\n",
    "- Fixed-size window: Best for sums/averages over exactly k elements.\n",
    "- Variable-size window: Grow/shrink to satisfy a condition (sum, uniqueness, etc.).\n",
    "- Deque optimization: Get max/min per window in O(n) using a monotonic deque.\n",
    "\n",
    "_Use sliding window whenever the problem mentions contiguous subarray/substring with rolling properties (sum, count, uniqueness, max/min)._"
   ],
   "id": "7ec8d501d6641b4c"
  },
  {
   "metadata": {},
   "cell_type": "code",
   "outputs": [],
   "execution_count": null,
   "source": "",
   "id": "c04b6dc9fa0a4b99"
  }
 ],
 "metadata": {
  "kernelspec": {
   "display_name": "Python 3",
   "language": "python",
   "name": "python3"
  },
  "language_info": {
   "codemirror_mode": {
    "name": "ipython",
    "version": 2
   },
   "file_extension": ".py",
   "mimetype": "text/x-python",
   "name": "python",
   "nbconvert_exporter": "python",
   "pygments_lexer": "ipython2",
   "version": "2.7.6"
  }
 },
 "nbformat": 4,
 "nbformat_minor": 5
}
