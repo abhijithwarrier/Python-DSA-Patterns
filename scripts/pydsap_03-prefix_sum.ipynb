{
 "cells": [
  {
   "cell_type": "markdown",
   "id": "2a476af7112268e6",
   "metadata": {
    "collapsed": true,
    "jupyter": {
     "outputs_hidden": true
    }
   },
   "source": [
    "**Programmer:** python_scripts (Abhijith Warrier)\n",
    "\n",
    "**PYTHON SCRIPT TO _SOLVE RANGE SUM & SUBARRAY PROBLEMS USING PREFIX SUMS_. 🐍➕**\n",
    "\n",
    "The **prefix sum** technique precomputes cumulative sums in an array, so you can answer range queries or compute subarray sums in **O(1)** instead of rescanning every time."
   ]
  },
  {
   "cell_type": "markdown",
   "id": "96ddc563b999ff4d",
   "metadata": {},
   "source": [
    "### 📝 Snippet 1 — Building a Prefix Sum Array\n",
    "\n",
    "We create a prefix sum array where each element at index i stores the sum of all elements up to i. This makes later queries efficient."
   ]
  },
  {
   "cell_type": "code",
   "execution_count": 1,
   "id": "464474fb1034655b",
   "metadata": {
    "ExecuteTime": {
     "end_time": "2025-09-12T14:10:40.862121Z",
     "start_time": "2025-09-12T14:10:40.851041Z"
    }
   },
   "outputs": [
    {
     "name": "stdout",
     "output_type": "stream",
     "text": [
      "Prefix Sum Array: [2, 6, 12, 20]\n"
     ]
    }
   ],
   "source": [
    "from typing import List\n",
    "\n",
    "def build_prefix_sum(arr: List[int]) -> List[int]:\n",
    "    \"\"\"\n",
    "    Build a prefix sum array where prefix[i] = sum(arr[0..i]).\n",
    "    \"\"\"\n",
    "    prefix = [0] * len(arr)     # initialize prefix array with zeros\n",
    "    prefix[0] = arr[0]          # first prefix = first element\n",
    "    for i in range(1, len(arr)):\n",
    "        prefix[i] = prefix[i-1] + arr[i]  # add current element to previous prefix\n",
    "    return prefix\n",
    "\n",
    "# Example: [2,4,6,8] -> [2,6,12,20]\n",
    "print(f\"Prefix Sum Array: {build_prefix_sum([2, 4, 6, 8])}\")"
   ]
  },
  {
   "cell_type": "markdown",
   "id": "d04f192b58d0d31e",
   "metadata": {},
   "source": [
    "### 📝 Snippet 2 — Range Sum Query in O(1)\n",
    "\n",
    "Using the prefix array, we can compute the sum of any subarray [l..r] in constant time."
   ]
  },
  {
   "cell_type": "code",
   "execution_count": 2,
   "id": "8b5055882aa72bf2",
   "metadata": {
    "ExecuteTime": {
     "end_time": "2025-09-12T14:10:57.038858Z",
     "start_time": "2025-09-12T14:10:57.032334Z"
    }
   },
   "outputs": [
    {
     "name": "stdout",
     "output_type": "stream",
     "text": [
      "Sum of arr[1..3]: 18\n",
      "Sum of arr[0..4]: 30\n"
     ]
    }
   ],
   "source": [
    "def range_sum(prefix: List[int], l: int, r: int) -> int:\n",
    "    \"\"\"\n",
    "    Return the sum of subarray arr[l..r] using prefix sums.\n",
    "    \"\"\"\n",
    "    if l == 0:\n",
    "        return prefix[r]                     # sum from start to r\n",
    "    return prefix[r] - prefix[l-1]           # subtract prefix before l\n",
    "\n",
    "# Example usage\n",
    "arr = [2, 4, 6, 8, 10]\n",
    "prefix = build_prefix_sum(arr)\n",
    "\n",
    "# sum of elements from index 1 to 3 -> 4+6+8 = 18\n",
    "print(f\"Sum of arr[1..3]: {range_sum(prefix, 1, 3)}\")\n",
    "\n",
    "# sum of elements from index 0 to 4 -> 2+4+6+8+10 = 30\n",
    "print(f\"Sum of arr[0..4]: {range_sum(prefix, 0, 4)}\")"
   ]
  },
  {
   "cell_type": "markdown",
   "id": "5a85d8684f58f480",
   "metadata": {},
   "source": [
    "### 📝 Snippet 3 — Prefix Sum for Subarray Problem (Equilibrium Index)\n",
    "\n",
    "An index is an equilibrium if the sum of elements before it = sum after it. Prefix sums make this check easier."
   ]
  },
  {
   "cell_type": "code",
   "execution_count": 3,
   "id": "10bc02a49c1695d3",
   "metadata": {
    "ExecuteTime": {
     "end_time": "2025-09-12T14:10:58.922042Z",
     "start_time": "2025-09-12T14:10:58.918160Z"
    }
   },
   "outputs": [
    {
     "name": "stdout",
     "output_type": "stream",
     "text": [
      "Equilibrium Index: 2\n"
     ]
    }
   ],
   "source": [
    "def equilibrium_index(arr: List[int]) -> int:\n",
    "    \"\"\"\n",
    "    Return the first index where left sum == right sum.\n",
    "    \"\"\"\n",
    "    total_sum = sum(arr)        # total sum of array\n",
    "    left_sum = 0                # running sum of left side\n",
    "\n",
    "    for i, val in enumerate(arr):\n",
    "        # check if left sum equals right sum\n",
    "        if left_sum == total_sum - left_sum - val:\n",
    "            return i\n",
    "        left_sum += val         # update left sum for next index\n",
    "\n",
    "    return -1   # no equilibrium index found\n",
    "\n",
    "# Example: [1,3,5,2,2] -> index 2 (value 5)\n",
    "print(f\"Equilibrium Index: {equilibrium_index([1, 3, 5, 2, 2])}\")"
   ]
  },
  {
   "cell_type": "markdown",
   "id": "e8cfb98203d39f24",
   "metadata": {},
   "source": [
    "#### ✅ Takeaways\n",
    "- Prefix sums let you answer subarray/range sum queries in O(1).\n",
    "- Useful for problems like range queries, equilibrium index, and cumulative frequency.\n",
    "- Memory tradeoff: requires an extra array of size n."
   ]
  },
  {
   "cell_type": "code",
   "execution_count": null,
   "id": "722d51e51cbe5a51",
   "metadata": {},
   "outputs": [],
   "source": []
  }
 ],
 "metadata": {
  "kernelspec": {
   "display_name": "Python 3 (ipykernel)",
   "language": "python",
   "name": "python3"
  },
  "language_info": {
   "codemirror_mode": {
    "name": "ipython",
    "version": 3
   },
   "file_extension": ".py",
   "mimetype": "text/x-python",
   "name": "python",
   "nbconvert_exporter": "python",
   "pygments_lexer": "ipython3",
   "version": "3.13.5"
  }
 },
 "nbformat": 4,
 "nbformat_minor": 5
}
