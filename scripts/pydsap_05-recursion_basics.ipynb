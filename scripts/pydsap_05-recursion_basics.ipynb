{
 "cells": [
  {
   "cell_type": "markdown",
   "id": "43a4161b8c006531",
   "metadata": {
    "collapsed": true,
    "jupyter": {
     "outputs_hidden": true
    }
   },
   "source": [
    "**Programmer:** python_scripts (Abhijith Warrier)\n",
    "\n",
    "**PYTHON SCRIPT TO _SOLVE PROBLEMS USING RECURSION BASICS_. 🐍🔄**\n",
    "\n",
    "Recursion is when a function calls itself to break a problem into smaller subproblems.\n",
    "It’s a fundamental pattern for solving problems like factorial, Fibonacci, backtracking, and divide-and-conquer algorithms."
   ]
  },
  {
   "cell_type": "markdown",
   "id": "f44e58d08b4c98fb",
   "metadata": {},
   "source": [
    "### 📝 Snippet 1 — Factorial of a Number\n",
    "\n",
    "The classic recursion example: factorial(n) = n × factorial(n-1)."
   ]
  },
  {
   "cell_type": "code",
   "execution_count": 1,
   "id": "2a5e19b7db0c211",
   "metadata": {},
   "outputs": [
    {
     "name": "stdout",
     "output_type": "stream",
     "text": [
      "Factorial of 5: 120\n"
     ]
    }
   ],
   "source": [
    "def factorial(n: int) -> int:\n",
    "    \"\"\"\n",
    "    Compute factorial of n using recursion.\n",
    "    Base case: factorial(0) = 1\n",
    "    \"\"\"\n",
    "    if n == 0 or n == 1:     # base case\n",
    "        return 1\n",
    "    return n * factorial(n-1)  # recursive step\n",
    "\n",
    "# Example\n",
    "print(\"Factorial of 5:\", factorial(5))  # Output: 120"
   ]
  },
  {
   "cell_type": "markdown",
   "id": "8d0aae7877aa6bd3",
   "metadata": {},
   "source": [
    "### 📝 Snippet 2 — Fibonacci Sequence\n",
    "\n",
    "Each number is the sum of the two before it. Shows overlapping subproblems in recursion."
   ]
  },
  {
   "cell_type": "code",
   "execution_count": 2,
   "id": "a71929796f92a2db",
   "metadata": {},
   "outputs": [
    {
     "name": "stdout",
     "output_type": "stream",
     "text": [
      "Fibonacci(6): 8\n"
     ]
    }
   ],
   "source": [
    "def fibonacci(n: int) -> int:\n",
    "    \"\"\"\n",
    "    Return nth Fibonacci number using recursion.\n",
    "    Base cases: F(0)=0, F(1)=1\n",
    "    \"\"\"\n",
    "    if n == 0:\n",
    "        return 0\n",
    "    if n == 1:\n",
    "        return 1\n",
    "    return fibonacci(n-1) + fibonacci(n-2)\n",
    "\n",
    "# Example\n",
    "print(\"Fibonacci(6):\", fibonacci(6))  # Output: 8"
   ]
  },
  {
   "cell_type": "markdown",
   "id": "cc810a64228649d5",
   "metadata": {},
   "source": [
    "### 📝 Snippet 3 — Sum of Array Elements\n",
    "\n",
    "Recursive definition: sum(arr[0..n]) = arr[n] + sum(arr[0..n-1])."
   ]
  },
  {
   "cell_type": "code",
   "execution_count": 3,
   "id": "c5d3b16560714328",
   "metadata": {},
   "outputs": [
    {
     "name": "stdout",
     "output_type": "stream",
     "text": [
      "Sum of [1,2,3,4,5]: 15\n"
     ]
    }
   ],
   "source": [
    "def recursive_sum(arr, n):\n",
    "    \"\"\"\n",
    "    Compute sum of first n elements in array using recursion.\n",
    "    \"\"\"\n",
    "    if n == 0:   # base case\n",
    "        return 0\n",
    "    return arr[n-1] + recursive_sum(arr, n-1)\n",
    "\n",
    "# Example\n",
    "print(\"Sum of [1,2,3,4,5]:\", recursive_sum([1,2,3,4,5], 5))  # Output: 15"
   ]
  },
  {
   "cell_type": "markdown",
   "id": "c45e6edd0d562176",
   "metadata": {},
   "source": [
    "### 📝 Snippet 4 — Reverse a String\n",
    "\n",
    "Divide problem into first char + recursion on rest."
   ]
  },
  {
   "cell_type": "code",
   "execution_count": 4,
   "id": "34685c28dcc43891",
   "metadata": {},
   "outputs": [
    {
     "name": "stdout",
     "output_type": "stream",
     "text": [
      "Reverse of 'hello': olleh\n"
     ]
    }
   ],
   "source": [
    "def reverse_string(s: str) -> str:\n",
    "    \"\"\"\n",
    "    Reverse a string using recursion.\n",
    "    \"\"\"\n",
    "    if len(s) == 0:  # base case\n",
    "        return \"\"\n",
    "    return reverse_string(s[1:]) + s[0]\n",
    "\n",
    "# Example\n",
    "print(\"Reverse of 'hello':\", reverse_string(\"hello\"))  # Output: \"olleh\""
   ]
  },
  {
   "cell_type": "markdown",
   "id": "e07edfd703f2b30a",
   "metadata": {},
   "source": [
    "✅ Takeaways\n",
    "- Base case: stops recursion.\n",
    "- Recursive case: reduces problem size, calls itself.\n",
    "- Useful for divide & conquer, backtracking, and tree/graph traversal.\n",
    "- Powerful, but beware of stack overflow for large inputs → use memoization/iteration if needed."
   ]
  },
  {
   "cell_type": "code",
   "execution_count": null,
   "id": "8c08d374713452a1",
   "metadata": {},
   "outputs": [],
   "source": []
  }
 ],
 "metadata": {
  "kernelspec": {
   "display_name": "Python 3 (ipykernel)",
   "language": "python",
   "name": "python3"
  },
  "language_info": {
   "codemirror_mode": {
    "name": "ipython",
    "version": 3
   },
   "file_extension": ".py",
   "mimetype": "text/x-python",
   "name": "python",
   "nbconvert_exporter": "python",
   "pygments_lexer": "ipython3",
   "version": "3.13.5"
  }
 },
 "nbformat": 4,
 "nbformat_minor": 5
}
